{
 "cells": [
  {
   "cell_type": "code",
   "execution_count": 1,
   "id": "1222478f-4e67-4c91-8072-71676a332d3c",
   "metadata": {},
   "outputs": [
    {
     "name": "stdout",
     "output_type": "stream",
     "text": [
      "Defaulting to user installation because normal site-packages is not writeable\n",
      "Requirement already satisfied: mysql-connector-python in c:\\users\\asus nuc\\appdata\\local\\packages\\pythonsoftwarefoundation.python.3.13_qbz5n2kfra8p0\\localcache\\local-packages\\python313\\site-packages (9.3.0)\n",
      "Note: you may need to restart the kernel to use updated packages.\n",
      "[('bookings',), ('customerdetails',), ('menuitems',), ('menus',), ('orders',), ('ordestatus',), ('staffdetails',)]\n"
     ]
    }
   ],
   "source": [
    "%pip install mysql-connector-python\n",
    "import mysql.connector as connector\n",
    "\n",
    "# Establish the connection\n",
    "connection = connector.connect(user=\"root\", password=\"happy\", database=\"littlelemondb\")\n",
    "\n",
    "# Create a cursor object\n",
    "cursor = connection.cursor()\n",
    "\n",
    "# Execute the SQL query\n",
    "show_tables_query = \"SHOW tables\"\n",
    "cursor.execute(show_tables_query)\n",
    "\n",
    "# Fetch the results\n",
    "results = cursor.fetchall()\n",
    "\n",
    "# Print the results\n",
    "print(results)\n",
    "\n",
    "# Close the cursor and connection\n",
    "cursor.close()\n",
    "connection.close()\n"
   ]
  },
  {
   "cell_type": "code",
   "execution_count": 2,
   "id": "5fbf3c84-5e3d-4210-a3eb-8f102490a0cf",
   "metadata": {},
   "outputs": [
    {
     "name": "stdout",
     "output_type": "stream",
     "text": [
      "Name: Carol White , Contact Details: 1993585001 , Total Cost: 66\n"
     ]
    }
   ],
   "source": [
    "import mysql.connector as connector\n",
    "\n",
    "# Establish the connection\n",
    "connection = connector.connect(user=\"root\", password=\"happy\", database=\"littlelemondb\")\n",
    "\n",
    "# Create a cursor object\n",
    "cursor = connection.cursor()\n",
    "\n",
    "# SQL Query\n",
    "query = \"\"\"\n",
    "SELECT customerdetails.Name, customerdetails.Number, orders.Price\n",
    "FROM Orders\n",
    "JOIN customerdetails ON orders.CustomerID = customerdetails.CustomerID\n",
    "WHERE orders.Price > 60;\n",
    "\"\"\"\n",
    "\n",
    "# Execute the query\n",
    "cursor.execute(query)\n",
    "\n",
    "# Fetch the results\n",
    "results = cursor.fetchall()\n",
    "\n",
    "# Print the results\n",
    "for result in results:\n",
    "    print(\"Name:\", result[0], \", Contact Details:\", result[1], \", Total Cost:\", result[2])\n",
    "\n",
    "# Close the cursor and connection\n",
    "cursor.close()\n",
    "connection.close()\n"
   ]
  }
 ],
 "metadata": {
  "kernelspec": {
   "display_name": "Python 3",
   "language": "python",
   "name": "python3"
  },
  "language_info": {
   "codemirror_mode": {
    "name": "ipython",
    "version": 3
   },
   "file_extension": ".py",
   "mimetype": "text/x-python",
   "name": "python",
   "nbconvert_exporter": "python",
   "pygments_lexer": "ipython3",
   "version": "3.13.5"
  }
 },
 "nbformat": 4,
 "nbformat_minor": 5
}
